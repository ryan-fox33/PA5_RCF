{
 "cells": [
  {
   "cell_type": "code",
   "execution_count": 15,
   "id": "73536c42",
   "metadata": {},
   "outputs": [
    {
     "name": "stdout",
     "output_type": "stream",
     "text": [
      "Enter the value of side a: \n",
      "Enter the value of side b: \n",
      "Enter the value of side c: \n",
      "The area of the triangle is:  0.4330127018922193\n",
      "The perimeter of the triangle is:  3\n"
     ]
    }
   ],
   "source": [
    "from math import sqrt\n",
    "\n",
    "def area_triangle(a,b,c):\n",
    "    s=(a+b+c)/2\n",
    "    return sqrt(s*(s-a)*(s-b)*(s-c))\n",
    "\n",
    "def perimeter_triangle(a,b,c):\n",
    "    return a+b+c\n",
    "a=int(input(\"Enter the value of side a: \") or \"1\")\n",
    "b=int(input(\"Enter the value of side b: \") or \"1\")\n",
    "c=int(input(\"Enter the value of side c: \") or \"1\")\n",
    "\n",
    "print(\"The area of the triangle is: \", area_triangle(a,b,c))\n",
    "print(\"The perimeter of the triangle is: \", perimeter_triangle(a,b,c))"
   ]
  },
  {
   "cell_type": "code",
   "execution_count": 27,
   "id": "9db62061",
   "metadata": {},
   "outputs": [
    {
     "name": "stdout",
     "output_type": "stream",
     "text": [
      "Enter a number between 1 and 1000: 500\n",
      "Too high, try again\n",
      "Enter a number between 1 and 1000: 200\n",
      "Too high, try again\n",
      "Enter a number between 1 and 1000: 100\n",
      "Too high, try again\n",
      "Enter a number between 1 and 1000: 42\n",
      "Too low, try again\n",
      "Enter a number between 1 and 1000: 60\n",
      "Too low, try again\n",
      "Enter a number between 1 and 1000: 70\n",
      "Too low, try again\n",
      "Enter a number between 1 and 1000: 80\n",
      "You won\n"
     ]
    }
   ],
   "source": [
    "import random\n",
    "number=random.randint(1,1000)\n",
    "entered_number=None\n",
    "\n",
    "while entered_number!=number:\n",
    "    entered_number = int(input(\"Enter a number between 1 and 1000: \"))\n",
    "    \n",
    "    if entered_number==number:\n",
    "        print('You won')\n",
    "    elif entered_number<number:\n",
    "        print(\"Too low, try again\")\n",
    "    else:\n",
    "        print(\"Too high, try again\")"
   ]
  },
  {
   "cell_type": "code",
   "execution_count": 33,
   "id": "456a2e62",
   "metadata": {},
   "outputs": [
    {
     "name": "stdout",
     "output_type": "stream",
     "text": [
      "The mean temperature for the last 6 days is:  46.0\n"
     ]
    }
   ],
   "source": [
    "temps=[43,51,38,50,44,50]\n",
    "def meantemp(*args):\n",
    "    return sum(args)/len(args)\n",
    "print(\"The mean temperature for the last 6 days is: \", meantemp(*temps))\n",
    "    "
   ]
  },
  {
   "cell_type": "markdown",
   "id": "dfbb79b0",
   "metadata": {},
   "source": [
    "### PA5, Ryan Fox, Version 1, Fall CS150"
   ]
  },
  {
   "cell_type": "code",
   "execution_count": null,
   "id": "fd347d17",
   "metadata": {},
   "outputs": [],
   "source": []
  }
 ],
 "metadata": {
  "kernelspec": {
   "display_name": "Python 3 (ipykernel)",
   "language": "python",
   "name": "python3"
  },
  "language_info": {
   "codemirror_mode": {
    "name": "ipython",
    "version": 3
   },
   "file_extension": ".py",
   "mimetype": "text/x-python",
   "name": "python",
   "nbconvert_exporter": "python",
   "pygments_lexer": "ipython3",
   "version": "3.9.12"
  }
 },
 "nbformat": 4,
 "nbformat_minor": 5
}
